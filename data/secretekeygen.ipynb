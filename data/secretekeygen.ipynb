{
 "cells": [
  {
   "cell_type": "code",
   "execution_count": 1,
   "id": "a94f0cb9",
   "metadata": {},
   "outputs": [
    {
     "name": "stdout",
     "output_type": "stream",
     "text": [
      "0406971babd839d0d7299e9a99d5571e2800a5fcd778225c1d45608ef6f1ef3e\n"
     ]
    }
   ],
   "source": [
    "import secrets\n",
    "\n",
    "print(secrets.token_hex(32))  # 64-character hexadecimal key"
   ]
  },
  {
   "cell_type": "code",
   "execution_count": null,
   "id": "7329c758",
   "metadata": {},
   "outputs": [],
   "source": [
    "from twilio.rest import Client\n",
    "import random\n",
    "import os"
   ]
  },
  {
   "cell_type": "code",
   "execution_count": null,
   "id": "30bd5009",
   "metadata": {},
   "outputs": [],
   "source": [
    "def send_otp(mobile_number):\n",
    "    # Load from environment\n",
    "    account_sid = os.getenv(\"TWILIO_ACCOUNT_SID\")\n",
    "    auth_token = os.getenv(\"TWILIO_AUTH_TOKEN\")\n",
    "    twilio_number = os.getenv(\"TWILIO_PHONE_NUMBER\")\n",
    "    client = Client(account_sid, auth_token)\n",
    "\n",
    "    # Generate a 6-digit OTP\n",
    "    otp = str(random.randint(100000, 999999))\n",
    "\n",
    "    # Send SMS\n",
    "    message = client.messages.create(\n",
    "        body=f\"Your verification code is {otp}\",\n",
    "        from_=twilio_number,\n",
    "        to=mobile_number\n",
    "    )\n",
    "\n",
    "    return otp  # Store this OTP temporarily (DB/Cache/session)\n"
   ]
  }
 ],
 "metadata": {
  "kernelspec": {
   "display_name": "venv (3.11.9)",
   "language": "python",
   "name": "python3"
  },
  "language_info": {
   "codemirror_mode": {
    "name": "ipython",
    "version": 3
   },
   "file_extension": ".py",
   "mimetype": "text/x-python",
   "name": "python",
   "nbconvert_exporter": "python",
   "pygments_lexer": "ipython3",
   "version": "3.11.9"
  }
 },
 "nbformat": 4,
 "nbformat_minor": 5
}
